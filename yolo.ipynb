{
 "cells": [
  {
   "cell_type": "code",
   "execution_count": 6,
   "id": "970bf7c5",
   "metadata": {},
   "outputs": [],
   "source": [
    "import os\n",
    "import shutil\n",
    "import random\n"
   ]
  },
  {
   "cell_type": "code",
   "execution_count": 7,
   "id": "a5eb99b0",
   "metadata": {},
   "outputs": [],
   "source": [
    "# Paths to your dataset\n",
    "dataset_path = \"Dataset\"\n",
    "train_path = os.path.join(dataset_path, \"train\")\n",
    "test_path = os.path.join(dataset_path, \"test\")"
   ]
  },
  {
   "cell_type": "code",
   "execution_count": 8,
   "id": "858dda2f",
   "metadata": {},
   "outputs": [],
   "source": [
    "\n",
    "\n",
    "\n",
    "# Create the new directories for YOLO format\n",
    "new_dataset_path = \"yolo_dataset\"\n",
    "train_images_path = os.path.join(new_dataset_path, \"train\", \"images\")\n",
    "train_labels_path = os.path.join(new_dataset_path, \"train\", \"labels\")\n",
    "val_images_path = os.path.join(new_dataset_path, \"val\", \"images\")\n",
    "val_labels_path = os.path.join(new_dataset_path, \"val\", \"labels\")\n",
    "\n",
    "os.makedirs(train_images_path, exist_ok=True)\n",
    "os.makedirs(train_labels_path, exist_ok=True)\n",
    "os.makedirs(val_images_path, exist_ok=True)\n",
    "os.makedirs(val_labels_path, exist_ok=True)\n",
    "\n",
    "# Define class labels (index starts from 0)\n",
    "classes = {\n",
    "    \"freshbanana\": 0,\n",
    "    \"rottenbanana\": 1\n",
    "}\n"
   ]
  },
  {
   "cell_type": "code",
   "execution_count": 9,
   "id": "11f14310",
   "metadata": {},
   "outputs": [
    {
     "name": "stdout",
     "output_type": "stream",
     "text": [
      "Dataset is organized in YOLO format.\n"
     ]
    }
   ],
   "source": [
    "\n",
    "# Helper function to copy images and create labels\n",
    "def copy_images_and_create_labels(source_path, split):\n",
    "    for fruit_class in os.listdir(source_path):\n",
    "        class_path = os.path.join(source_path, fruit_class)\n",
    "        if os.path.isdir(class_path):\n",
    "            class_index = classes[fruit_class]\n",
    "            for image_name in os.listdir(class_path):\n",
    "                image_path = os.path.join(class_path, image_name)\n",
    "                if image_name.endswith(\".jpg\") or image_name.endswith(\".png\"):\n",
    "                    # Determine whether to copy to train or val\n",
    "                    is_val = random.random() < 0.2  # 20% of images go to validation\n",
    "                    if is_val:\n",
    "                        new_image_path = os.path.join(val_images_path, image_name)\n",
    "                        label_path = os.path.join(val_labels_path, image_name.replace(image_name.split('.')[-1], 'txt'))\n",
    "                    else:\n",
    "                        new_image_path = os.path.join(train_images_path, image_name)\n",
    "                        label_path = os.path.join(train_labels_path, image_name.replace(image_name.split('.')[-1], 'txt'))\n",
    "                    \n",
    "                    # Copy the image\n",
    "                    shutil.copy(image_path, new_image_path)\n",
    "\n",
    "                    # Create label for the image\n",
    "                    with open(label_path, 'w') as f:\n",
    "                        # Format: class x_center y_center width height (normalized)\n",
    "                        # For simplicity, you can assume the bounding box is the entire image\n",
    "                        # You will need to adjust bounding boxes based on actual data in your case\n",
    "                        width, height = 1, 1  # Placeholder, adjust based on your bounding box data\n",
    "                        x_center, y_center = 0.5, 0.5  # Placeholder, adjust based on your bounding box data\n",
    "                        f.write(f\"{class_index} {x_center} {y_center} {width} {height}\\n\")\n",
    "\n",
    "# Process the train and test datasets\n",
    "copy_images_and_create_labels(train_path, \"train\")\n",
    "copy_images_and_create_labels(test_path, \"val\")\n",
    "\n",
    "# Create the data.yaml file\n",
    "data_yaml = \"\"\"\n",
    "path: ./yolo_dataset\n",
    "train: train/images\n",
    "val: val/images\n",
    "\n",
    "nc: 2\n",
    "names:\n",
    "  0: freshbanana\n",
    "  1: rottenbanana\n",
    "\"\"\"\n",
    "\n",
    "with open(\"yolo_dataset/data.yaml\", \"w\") as yaml_file:\n",
    "    yaml_file.write(data_yaml)\n",
    "\n",
    "print(\"Dataset is organized in YOLO format.\")\n"
   ]
  }
 ],
 "metadata": {
  "kernelspec": {
   "display_name": "Python 3",
   "language": "python",
   "name": "python3"
  },
  "language_info": {
   "codemirror_mode": {
    "name": "ipython",
    "version": 3
   },
   "file_extension": ".py",
   "mimetype": "text/x-python",
   "name": "python",
   "nbconvert_exporter": "python",
   "pygments_lexer": "ipython3",
   "version": "3.11.2"
  }
 },
 "nbformat": 4,
 "nbformat_minor": 5
}
